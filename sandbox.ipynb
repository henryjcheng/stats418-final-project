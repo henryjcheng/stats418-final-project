{
 "cells": [
  {
   "cell_type": "markdown",
   "metadata": {},
   "source": [
    "# Text Summary\n",
    "Summarize review for New York AirBnb  \n",
    "  \n",
    "Trying out __Text Summarization in 5 Steps uing NLTK__  \n",
    "https://becominghuman.ai/text-summarization-in-5-steps-using-nltk-65b21e352b65"
   ]
  },
  {
   "cell_type": "code",
   "execution_count": 26,
   "metadata": {},
   "outputs": [],
   "source": [
    "import os\n",
    "import pandas as pd\n",
    "import matplotlib.pyplot as plt\n",
    "from nltk.corpus import stopwords\n",
    "from nltk import word_tokenize, PorterStemmer, sent_tokenize"
   ]
  },
  {
   "cell_type": "markdown",
   "metadata": {},
   "source": [
    "## 1. Data Preprocessing\n",
    "At this step we will:  \n",
    "1. read in dataset\n",
    "2. get only neighborhood with at least {cutoff} listings\n",
    "3. join neighborhood with review"
   ]
  },
  {
   "cell_type": "code",
   "execution_count": 3,
   "metadata": {},
   "outputs": [
    {
     "data": {
      "text/plain": [
       "['calendar.csv', 'listings.csv', 'reviews.csv']"
      ]
     },
     "execution_count": 3,
     "metadata": {},
     "output_type": "execute_result"
    }
   ],
   "source": [
    "os.listdir('data')"
   ]
  },
  {
   "cell_type": "code",
   "execution_count": 110,
   "metadata": {},
   "outputs": [
    {
     "name": "stdout",
     "output_type": "stream",
     "text": [
      "\n",
      "listings:\n"
     ]
    },
    {
     "name": "stderr",
     "output_type": "stream",
     "text": [
      "c:\\users\\dell xps\\.conda\\envs\\stats-418\\lib\\site-packages\\IPython\\core\\interactiveshell.py:3063: DtypeWarning: Columns (61,62,94,95) have mixed types.Specify dtype option on import or set low_memory=False.\n",
      "  interactivity=interactivity, compiler=compiler, result=result)\n"
     ]
    },
    {
     "data": {
      "text/html": [
       "<div>\n",
       "<style scoped>\n",
       "    .dataframe tbody tr th:only-of-type {\n",
       "        vertical-align: middle;\n",
       "    }\n",
       "\n",
       "    .dataframe tbody tr th {\n",
       "        vertical-align: top;\n",
       "    }\n",
       "\n",
       "    .dataframe thead th {\n",
       "        text-align: right;\n",
       "    }\n",
       "</style>\n",
       "<table border=\"1\" class=\"dataframe\">\n",
       "  <thead>\n",
       "    <tr style=\"text-align: right;\">\n",
       "      <th></th>\n",
       "      <th>id</th>\n",
       "      <th>listing_url</th>\n",
       "      <th>scrape_id</th>\n",
       "      <th>last_scraped</th>\n",
       "      <th>name</th>\n",
       "      <th>summary</th>\n",
       "      <th>space</th>\n",
       "      <th>description</th>\n",
       "      <th>experiences_offered</th>\n",
       "      <th>neighborhood_overview</th>\n",
       "      <th>...</th>\n",
       "      <th>instant_bookable</th>\n",
       "      <th>is_business_travel_ready</th>\n",
       "      <th>cancellation_policy</th>\n",
       "      <th>require_guest_profile_picture</th>\n",
       "      <th>require_guest_phone_verification</th>\n",
       "      <th>calculated_host_listings_count</th>\n",
       "      <th>calculated_host_listings_count_entire_homes</th>\n",
       "      <th>calculated_host_listings_count_private_rooms</th>\n",
       "      <th>calculated_host_listings_count_shared_rooms</th>\n",
       "      <th>reviews_per_month</th>\n",
       "    </tr>\n",
       "  </thead>\n",
       "  <tbody>\n",
       "    <tr>\n",
       "      <th>0</th>\n",
       "      <td>2595</td>\n",
       "      <td>https://www.airbnb.com/rooms/2595</td>\n",
       "      <td>20200212052319</td>\n",
       "      <td>2020-02-12</td>\n",
       "      <td>Skylit Midtown Castle</td>\n",
       "      <td>Beautiful, spacious skylit studio in the heart...</td>\n",
       "      <td>- Spacious (500+ft²), immaculate and nicely fu...</td>\n",
       "      <td>Beautiful, spacious skylit studio in the heart...</td>\n",
       "      <td>none</td>\n",
       "      <td>Centrally located in the heart of Manhattan ju...</td>\n",
       "      <td>...</td>\n",
       "      <td>f</td>\n",
       "      <td>f</td>\n",
       "      <td>strict_14_with_grace_period</td>\n",
       "      <td>t</td>\n",
       "      <td>t</td>\n",
       "      <td>2</td>\n",
       "      <td>2</td>\n",
       "      <td>0</td>\n",
       "      <td>0</td>\n",
       "      <td>0.39</td>\n",
       "    </tr>\n",
       "    <tr>\n",
       "      <th>1</th>\n",
       "      <td>3831</td>\n",
       "      <td>https://www.airbnb.com/rooms/3831</td>\n",
       "      <td>20200212052319</td>\n",
       "      <td>2020-02-13</td>\n",
       "      <td>Cozy Entire Floor of Brownstone</td>\n",
       "      <td>Urban retreat: enjoy 500 s.f. floor in 1899 br...</td>\n",
       "      <td>Greetings!      We own a double-duplex brownst...</td>\n",
       "      <td>Urban retreat: enjoy 500 s.f. floor in 1899 br...</td>\n",
       "      <td>none</td>\n",
       "      <td>Just the right mix of urban center and local n...</td>\n",
       "      <td>...</td>\n",
       "      <td>f</td>\n",
       "      <td>f</td>\n",
       "      <td>moderate</td>\n",
       "      <td>f</td>\n",
       "      <td>f</td>\n",
       "      <td>1</td>\n",
       "      <td>1</td>\n",
       "      <td>0</td>\n",
       "      <td>0</td>\n",
       "      <td>4.69</td>\n",
       "    </tr>\n",
       "    <tr>\n",
       "      <th>2</th>\n",
       "      <td>5099</td>\n",
       "      <td>https://www.airbnb.com/rooms/5099</td>\n",
       "      <td>20200212052319</td>\n",
       "      <td>2020-02-12</td>\n",
       "      <td>Large Cozy 1 BR Apartment In Midtown East</td>\n",
       "      <td>My large 1 bedroom apartment has a true New Yo...</td>\n",
       "      <td>I have a large 1 bedroom apartment centrally l...</td>\n",
       "      <td>My large 1 bedroom apartment has a true New Yo...</td>\n",
       "      <td>none</td>\n",
       "      <td>My neighborhood in Midtown East is called Murr...</td>\n",
       "      <td>...</td>\n",
       "      <td>f</td>\n",
       "      <td>f</td>\n",
       "      <td>moderate</td>\n",
       "      <td>t</td>\n",
       "      <td>t</td>\n",
       "      <td>1</td>\n",
       "      <td>1</td>\n",
       "      <td>0</td>\n",
       "      <td>0</td>\n",
       "      <td>0.59</td>\n",
       "    </tr>\n",
       "    <tr>\n",
       "      <th>3</th>\n",
       "      <td>5121</td>\n",
       "      <td>https://www.airbnb.com/rooms/5121</td>\n",
       "      <td>20200212052319</td>\n",
       "      <td>2020-02-12</td>\n",
       "      <td>BlissArtsSpace!</td>\n",
       "      <td>NaN</td>\n",
       "      <td>HELLO EVERYONE AND THANKS FOR VISITING BLISS A...</td>\n",
       "      <td>HELLO EVERYONE AND THANKS FOR VISITING BLISS A...</td>\n",
       "      <td>none</td>\n",
       "      <td>NaN</td>\n",
       "      <td>...</td>\n",
       "      <td>f</td>\n",
       "      <td>f</td>\n",
       "      <td>strict_14_with_grace_period</td>\n",
       "      <td>f</td>\n",
       "      <td>f</td>\n",
       "      <td>1</td>\n",
       "      <td>0</td>\n",
       "      <td>1</td>\n",
       "      <td>0</td>\n",
       "      <td>0.38</td>\n",
       "    </tr>\n",
       "    <tr>\n",
       "      <th>4</th>\n",
       "      <td>5178</td>\n",
       "      <td>https://www.airbnb.com/rooms/5178</td>\n",
       "      <td>20200212052319</td>\n",
       "      <td>2020-02-13</td>\n",
       "      <td>Large Furnished Room Near B'way</td>\n",
       "      <td>Please don’t expect the luxury here just a bas...</td>\n",
       "      <td>You will use one large, furnished, private roo...</td>\n",
       "      <td>Please don’t expect the luxury here just a bas...</td>\n",
       "      <td>none</td>\n",
       "      <td>Theater district, many restaurants around here.</td>\n",
       "      <td>...</td>\n",
       "      <td>f</td>\n",
       "      <td>f</td>\n",
       "      <td>strict_14_with_grace_period</td>\n",
       "      <td>f</td>\n",
       "      <td>f</td>\n",
       "      <td>1</td>\n",
       "      <td>0</td>\n",
       "      <td>1</td>\n",
       "      <td>0</td>\n",
       "      <td>3.53</td>\n",
       "    </tr>\n",
       "  </tbody>\n",
       "</table>\n",
       "<p>5 rows × 106 columns</p>\n",
       "</div>"
      ],
      "text/plain": [
       "     id                        listing_url       scrape_id last_scraped  \\\n",
       "0  2595  https://www.airbnb.com/rooms/2595  20200212052319   2020-02-12   \n",
       "1  3831  https://www.airbnb.com/rooms/3831  20200212052319   2020-02-13   \n",
       "2  5099  https://www.airbnb.com/rooms/5099  20200212052319   2020-02-12   \n",
       "3  5121  https://www.airbnb.com/rooms/5121  20200212052319   2020-02-12   \n",
       "4  5178  https://www.airbnb.com/rooms/5178  20200212052319   2020-02-13   \n",
       "\n",
       "                                        name  \\\n",
       "0                      Skylit Midtown Castle   \n",
       "1            Cozy Entire Floor of Brownstone   \n",
       "2  Large Cozy 1 BR Apartment In Midtown East   \n",
       "3                            BlissArtsSpace!   \n",
       "4           Large Furnished Room Near B'way    \n",
       "\n",
       "                                             summary  \\\n",
       "0  Beautiful, spacious skylit studio in the heart...   \n",
       "1  Urban retreat: enjoy 500 s.f. floor in 1899 br...   \n",
       "2  My large 1 bedroom apartment has a true New Yo...   \n",
       "3                                                NaN   \n",
       "4  Please don’t expect the luxury here just a bas...   \n",
       "\n",
       "                                               space  \\\n",
       "0  - Spacious (500+ft²), immaculate and nicely fu...   \n",
       "1  Greetings!      We own a double-duplex brownst...   \n",
       "2  I have a large 1 bedroom apartment centrally l...   \n",
       "3  HELLO EVERYONE AND THANKS FOR VISITING BLISS A...   \n",
       "4  You will use one large, furnished, private roo...   \n",
       "\n",
       "                                         description experiences_offered  \\\n",
       "0  Beautiful, spacious skylit studio in the heart...                none   \n",
       "1  Urban retreat: enjoy 500 s.f. floor in 1899 br...                none   \n",
       "2  My large 1 bedroom apartment has a true New Yo...                none   \n",
       "3  HELLO EVERYONE AND THANKS FOR VISITING BLISS A...                none   \n",
       "4  Please don’t expect the luxury here just a bas...                none   \n",
       "\n",
       "                               neighborhood_overview  ... instant_bookable  \\\n",
       "0  Centrally located in the heart of Manhattan ju...  ...                f   \n",
       "1  Just the right mix of urban center and local n...  ...                f   \n",
       "2  My neighborhood in Midtown East is called Murr...  ...                f   \n",
       "3                                                NaN  ...                f   \n",
       "4    Theater district, many restaurants around here.  ...                f   \n",
       "\n",
       "  is_business_travel_ready          cancellation_policy  \\\n",
       "0                        f  strict_14_with_grace_period   \n",
       "1                        f                     moderate   \n",
       "2                        f                     moderate   \n",
       "3                        f  strict_14_with_grace_period   \n",
       "4                        f  strict_14_with_grace_period   \n",
       "\n",
       "  require_guest_profile_picture require_guest_phone_verification  \\\n",
       "0                             t                                t   \n",
       "1                             f                                f   \n",
       "2                             t                                t   \n",
       "3                             f                                f   \n",
       "4                             f                                f   \n",
       "\n",
       "   calculated_host_listings_count  \\\n",
       "0                               2   \n",
       "1                               1   \n",
       "2                               1   \n",
       "3                               1   \n",
       "4                               1   \n",
       "\n",
       "   calculated_host_listings_count_entire_homes  \\\n",
       "0                                            2   \n",
       "1                                            1   \n",
       "2                                            1   \n",
       "3                                            0   \n",
       "4                                            0   \n",
       "\n",
       "  calculated_host_listings_count_private_rooms  \\\n",
       "0                                            0   \n",
       "1                                            0   \n",
       "2                                            0   \n",
       "3                                            1   \n",
       "4                                            1   \n",
       "\n",
       "   calculated_host_listings_count_shared_rooms  reviews_per_month  \n",
       "0                                            0               0.39  \n",
       "1                                            0               4.69  \n",
       "2                                            0               0.59  \n",
       "3                                            0               0.38  \n",
       "4                                            0               3.53  \n",
       "\n",
       "[5 rows x 106 columns]"
      ]
     },
     "metadata": {},
     "output_type": "display_data"
    },
    {
     "name": "stdout",
     "output_type": "stream",
     "text": [
      "\n",
      "reviews:\n"
     ]
    },
    {
     "data": {
      "text/html": [
       "<div>\n",
       "<style scoped>\n",
       "    .dataframe tbody tr th:only-of-type {\n",
       "        vertical-align: middle;\n",
       "    }\n",
       "\n",
       "    .dataframe tbody tr th {\n",
       "        vertical-align: top;\n",
       "    }\n",
       "\n",
       "    .dataframe thead th {\n",
       "        text-align: right;\n",
       "    }\n",
       "</style>\n",
       "<table border=\"1\" class=\"dataframe\">\n",
       "  <thead>\n",
       "    <tr style=\"text-align: right;\">\n",
       "      <th></th>\n",
       "      <th>listing_id</th>\n",
       "      <th>id</th>\n",
       "      <th>date</th>\n",
       "      <th>reviewer_id</th>\n",
       "      <th>reviewer_name</th>\n",
       "      <th>comments</th>\n",
       "    </tr>\n",
       "  </thead>\n",
       "  <tbody>\n",
       "    <tr>\n",
       "      <th>0</th>\n",
       "      <td>2595</td>\n",
       "      <td>17857</td>\n",
       "      <td>2009-11-21</td>\n",
       "      <td>50679</td>\n",
       "      <td>Jean</td>\n",
       "      <td>Notre séjour de trois nuits.\\r\\nNous avons app...</td>\n",
       "    </tr>\n",
       "    <tr>\n",
       "      <th>1</th>\n",
       "      <td>2595</td>\n",
       "      <td>19176</td>\n",
       "      <td>2009-12-05</td>\n",
       "      <td>53267</td>\n",
       "      <td>Cate</td>\n",
       "      <td>Great experience.</td>\n",
       "    </tr>\n",
       "    <tr>\n",
       "      <th>2</th>\n",
       "      <td>2595</td>\n",
       "      <td>19760</td>\n",
       "      <td>2009-12-10</td>\n",
       "      <td>38960</td>\n",
       "      <td>Anita</td>\n",
       "      <td>I've stayed with my friend at the Midtown Cast...</td>\n",
       "    </tr>\n",
       "    <tr>\n",
       "      <th>3</th>\n",
       "      <td>2595</td>\n",
       "      <td>34320</td>\n",
       "      <td>2010-04-09</td>\n",
       "      <td>71130</td>\n",
       "      <td>Kai-Uwe</td>\n",
       "      <td>We've been staying here for about 9 nights, en...</td>\n",
       "    </tr>\n",
       "    <tr>\n",
       "      <th>4</th>\n",
       "      <td>2595</td>\n",
       "      <td>46312</td>\n",
       "      <td>2010-05-25</td>\n",
       "      <td>117113</td>\n",
       "      <td>Alicia</td>\n",
       "      <td>We had a wonderful stay at Jennifer's charming...</td>\n",
       "    </tr>\n",
       "  </tbody>\n",
       "</table>\n",
       "</div>"
      ],
      "text/plain": [
       "   listing_id     id        date  reviewer_id reviewer_name  \\\n",
       "0        2595  17857  2009-11-21        50679          Jean   \n",
       "1        2595  19176  2009-12-05        53267          Cate   \n",
       "2        2595  19760  2009-12-10        38960         Anita   \n",
       "3        2595  34320  2010-04-09        71130       Kai-Uwe   \n",
       "4        2595  46312  2010-05-25       117113        Alicia   \n",
       "\n",
       "                                            comments  \n",
       "0  Notre séjour de trois nuits.\\r\\nNous avons app...  \n",
       "1                                  Great experience.  \n",
       "2  I've stayed with my friend at the Midtown Cast...  \n",
       "3  We've been staying here for about 9 nights, en...  \n",
       "4  We had a wonderful stay at Jennifer's charming...  "
      ]
     },
     "metadata": {},
     "output_type": "display_data"
    }
   ],
   "source": [
    "# read in listing2 dataset\n",
    "print('\\nlistings:')\n",
    "df_listing2 = pd.read_csv('data/listings.csv')\n",
    "display(df_listing2.head())\n",
    "\n",
    "print('\\nreviews:')\n",
    "df_review = pd.read_csv('data/reviews.csv')\n",
    "display(df_review.head())"
   ]
  },
  {
   "cell_type": "code",
   "execution_count": 111,
   "metadata": {},
   "outputs": [
    {
     "name": "stdout",
     "output_type": "stream",
     "text": [
      "Number of neighbourhood with at least 200 listings 37\n"
     ]
    }
   ],
   "source": [
    "# get count of neighbourhood with at least 200 listings\n",
    "cutoff = 200\n",
    "df_nbr_count = df_listing2[['neighbourhood']].reset_index(drop=True)\n",
    "df_nbr_count['freq'] = df_nbr_count.groupby('neighbourhood')['neighbourhood']\\\n",
    "                                   .transform('count')\n",
    "\n",
    "# create subset of data based on cutoff\n",
    "df_top_nbr = df_nbr_count[df_nbr_count['freq'] >= cutoff].drop_duplicates()\n",
    "\n",
    "# print result\n",
    "print(f'Number of neighbourhood with at least {cutoff} listings {df_top_nbr.shape[0]}')"
   ]
  },
  {
   "cell_type": "code",
   "execution_count": 112,
   "metadata": {},
   "outputs": [],
   "source": [
    "# create trimmed id, neighbourhood table\n",
    "df_id_nbr = df_listing2[['id', 'neighbourhood']].drop_duplicates()\n",
    "df_nbr_trim = df_id_nbr.merge(df_top_nbr, on='neighbourhood', how='inner')\n",
    "\n",
    "df_nbr_trim = df_nbr_trim[['id', 'neighbourhood']].reset_index(drop=True)"
   ]
  },
  {
   "cell_type": "code",
   "execution_count": 113,
   "metadata": {},
   "outputs": [
    {
     "name": "stdout",
     "output_type": "stream",
     "text": [
      "\n",
      " comments:\n"
     ]
    },
    {
     "data": {
      "text/html": [
       "<div>\n",
       "<style scoped>\n",
       "    .dataframe tbody tr th:only-of-type {\n",
       "        vertical-align: middle;\n",
       "    }\n",
       "\n",
       "    .dataframe tbody tr th {\n",
       "        vertical-align: top;\n",
       "    }\n",
       "\n",
       "    .dataframe thead th {\n",
       "        text-align: right;\n",
       "    }\n",
       "</style>\n",
       "<table border=\"1\" class=\"dataframe\">\n",
       "  <thead>\n",
       "    <tr style=\"text-align: right;\">\n",
       "      <th></th>\n",
       "      <th>id</th>\n",
       "      <th>comments</th>\n",
       "    </tr>\n",
       "  </thead>\n",
       "  <tbody>\n",
       "    <tr>\n",
       "      <th>0</th>\n",
       "      <td>2595</td>\n",
       "      <td>Notre séjour de trois nuits.\\r\\nNous avons app...</td>\n",
       "    </tr>\n",
       "    <tr>\n",
       "      <th>1</th>\n",
       "      <td>2595</td>\n",
       "      <td>Great experience.</td>\n",
       "    </tr>\n",
       "    <tr>\n",
       "      <th>2</th>\n",
       "      <td>2595</td>\n",
       "      <td>I've stayed with my friend at the Midtown Cast...</td>\n",
       "    </tr>\n",
       "    <tr>\n",
       "      <th>3</th>\n",
       "      <td>2595</td>\n",
       "      <td>We've been staying here for about 9 nights, en...</td>\n",
       "    </tr>\n",
       "    <tr>\n",
       "      <th>4</th>\n",
       "      <td>2595</td>\n",
       "      <td>We had a wonderful stay at Jennifer's charming...</td>\n",
       "    </tr>\n",
       "  </tbody>\n",
       "</table>\n",
       "</div>"
      ],
      "text/plain": [
       "     id                                           comments\n",
       "0  2595  Notre séjour de trois nuits.\\r\\nNous avons app...\n",
       "1  2595                                  Great experience.\n",
       "2  2595  I've stayed with my friend at the Midtown Cast...\n",
       "3  2595  We've been staying here for about 9 nights, en...\n",
       "4  2595  We had a wonderful stay at Jennifer's charming..."
      ]
     },
     "metadata": {},
     "output_type": "display_data"
    }
   ],
   "source": [
    "# get comments\n",
    "df_comments = df_review[['listing_id', 'comments']].reset_index(drop=True)\n",
    "df_comments = df_comments.rename(columns={'listing_id':'id'})\n",
    "print('\\n comments:')\n",
    "display(df_comments.head())"
   ]
  },
  {
   "cell_type": "code",
   "execution_count": 114,
   "metadata": {},
   "outputs": [
    {
     "data": {
      "text/plain": [
       "(1131048, 3)"
      ]
     },
     "execution_count": 114,
     "metadata": {},
     "output_type": "execute_result"
    }
   ],
   "source": [
    "# join id, neighborhood with comments\n",
    "# since this is our final table, we will call it df\n",
    "df = df_nbr_trim.merge(df_comments, on='id', how='inner')\\\n",
    "                .drop_duplicates()\n",
    "df.shape"
   ]
  },
  {
   "cell_type": "code",
   "execution_count": 115,
   "metadata": {},
   "outputs": [
    {
     "data": {
      "text/html": [
       "<div>\n",
       "<style scoped>\n",
       "    .dataframe tbody tr th:only-of-type {\n",
       "        vertical-align: middle;\n",
       "    }\n",
       "\n",
       "    .dataframe tbody tr th {\n",
       "        vertical-align: top;\n",
       "    }\n",
       "\n",
       "    .dataframe thead th {\n",
       "        text-align: right;\n",
       "    }\n",
       "</style>\n",
       "<table border=\"1\" class=\"dataframe\">\n",
       "  <thead>\n",
       "    <tr style=\"text-align: right;\">\n",
       "      <th></th>\n",
       "      <th>id</th>\n",
       "      <th>neighbourhood</th>\n",
       "      <th>comments</th>\n",
       "    </tr>\n",
       "  </thead>\n",
       "  <tbody>\n",
       "    <tr>\n",
       "      <th>0</th>\n",
       "      <td>2595</td>\n",
       "      <td>Midtown</td>\n",
       "      <td>Notre séjour de trois nuits.\\r\\nNous avons app...</td>\n",
       "    </tr>\n",
       "    <tr>\n",
       "      <th>1</th>\n",
       "      <td>2595</td>\n",
       "      <td>Midtown</td>\n",
       "      <td>Great experience.</td>\n",
       "    </tr>\n",
       "    <tr>\n",
       "      <th>2</th>\n",
       "      <td>2595</td>\n",
       "      <td>Midtown</td>\n",
       "      <td>I've stayed with my friend at the Midtown Cast...</td>\n",
       "    </tr>\n",
       "    <tr>\n",
       "      <th>3</th>\n",
       "      <td>2595</td>\n",
       "      <td>Midtown</td>\n",
       "      <td>We've been staying here for about 9 nights, en...</td>\n",
       "    </tr>\n",
       "    <tr>\n",
       "      <th>4</th>\n",
       "      <td>2595</td>\n",
       "      <td>Midtown</td>\n",
       "      <td>We had a wonderful stay at Jennifer's charming...</td>\n",
       "    </tr>\n",
       "  </tbody>\n",
       "</table>\n",
       "</div>"
      ],
      "text/plain": [
       "     id neighbourhood                                           comments\n",
       "0  2595       Midtown  Notre séjour de trois nuits.\\r\\nNous avons app...\n",
       "1  2595       Midtown                                  Great experience.\n",
       "2  2595       Midtown  I've stayed with my friend at the Midtown Cast...\n",
       "3  2595       Midtown  We've been staying here for about 9 nights, en...\n",
       "4  2595       Midtown  We had a wonderful stay at Jennifer's charming..."
      ]
     },
     "execution_count": 115,
     "metadata": {},
     "output_type": "execute_result"
    }
   ],
   "source": [
    "df.head()"
   ]
  },
  {
   "cell_type": "markdown",
   "metadata": {},
   "source": [
    "## 2. EDA\n",
    "We will do some EDA such as counts, and read some comments to get a sense of the contents as well as how the summarizer should perform."
   ]
  },
  {
   "cell_type": "code",
   "execution_count": 22,
   "metadata": {},
   "outputs": [
    {
     "name": "stdout",
     "output_type": "stream",
     "text": [
      "The apartment is very nice and well located. Since the host was not home, we were unfortunately not able to communicate beyond basic necessities. Brian left us clear and detailed instructions about the apartment and the neighborhood, and made sure that our arrival went smoothly.\n"
     ]
    }
   ],
   "source": [
    "# change index to inspect\n",
    "index = 1856\n",
    "print(df[df['neighbourhood'] == 'Midtown']['comments'][index])"
   ]
  },
  {
   "cell_type": "code",
   "execution_count": 18,
   "metadata": {},
   "outputs": [
    {
     "data": {
      "text/plain": [
       "count    51082.000000\n",
       "mean      4948.452018\n",
       "std       4732.830392\n",
       "min          1.000000\n",
       "25%        578.000000\n",
       "50%       1924.000000\n",
       "75%      10167.000000\n",
       "max      10873.000000\n",
       "Name: freq, dtype: float64"
      ]
     },
     "execution_count": 18,
     "metadata": {},
     "output_type": "execute_result"
    }
   ],
   "source": [
    "# listing by neighborhood\n",
    "df_nbr_count['freq'].describe()"
   ]
  },
  {
   "cell_type": "markdown",
   "metadata": {},
   "source": [
    "## 3. Text Summarization\n",
    "We will concatinate reviews for the same neighbourhood into one giant paragraph then do text summarization from there."
   ]
  },
  {
   "cell_type": "markdown",
   "metadata": {},
   "source": [
    "### 1. Create Word Frequency Table"
   ]
  },
  {
   "cell_type": "code",
   "execution_count": 38,
   "metadata": {},
   "outputs": [],
   "source": [
    "def _create_frequency_table(text_string) -> dict:\n",
    "\n",
    "    stopWords = set(stopwords.words(\"english\"))\n",
    "    words = word_tokenize(text_string)\n",
    "    ps = PorterStemmer()\n",
    "\n",
    "    freqTable = dict()\n",
    "    for word in words:\n",
    "        word = ps.stem(word)\n",
    "        if word in stopWords:\n",
    "            continue\n",
    "        if word in freqTable:\n",
    "            freqTable[word] += 1\n",
    "        else:\n",
    "            freqTable[word] = 1\n",
    "\n",
    "    return freqTable"
   ]
  },
  {
   "cell_type": "code",
   "execution_count": 39,
   "metadata": {},
   "outputs": [
    {
     "name": "stdout",
     "output_type": "stream",
     "text": [
      "I can't say enough about Brian or his place.  The location was perfect for exploring the city, the apartment was small but very clean and welcoming and Brian himself was a fantastic host.  Due to flight issues we arrived in the middle of the night and he was very friendly and accommodating.  He even had a list of favorite local restaurants, tourist activities, etc. ready for us!  I definitely recommend this air bnb!\n"
     ]
    }
   ],
   "source": [
    "index = 1873\n",
    "sample_string = df[df['neighbourhood'] == 'Midtown']['comments'][index]\n",
    "print(sample_string)"
   ]
  },
  {
   "cell_type": "code",
   "execution_count": 40,
   "metadata": {},
   "outputs": [
    {
     "data": {
      "text/plain": [
       "{'I': 2,\n",
       " 'ca': 1,\n",
       " \"n't\": 1,\n",
       " 'say': 1,\n",
       " 'enough': 1,\n",
       " 'brian': 2,\n",
       " 'hi': 1,\n",
       " 'place': 1,\n",
       " '.': 4,\n",
       " 'locat': 1,\n",
       " 'wa': 4,\n",
       " 'perfect': 1,\n",
       " 'explor': 1,\n",
       " 'citi': 1,\n",
       " ',': 3,\n",
       " 'apart': 1,\n",
       " 'small': 1,\n",
       " 'veri': 2,\n",
       " 'clean': 1,\n",
       " 'welcom': 1,\n",
       " 'fantast': 1,\n",
       " 'host': 1,\n",
       " 'due': 1,\n",
       " 'flight': 1,\n",
       " 'issu': 1,\n",
       " 'arriv': 1,\n",
       " 'middl': 1,\n",
       " 'night': 1,\n",
       " 'friendli': 1,\n",
       " 'accommod': 1,\n",
       " 'He': 1,\n",
       " 'even': 1,\n",
       " 'list': 1,\n",
       " 'favorit': 1,\n",
       " 'local': 1,\n",
       " 'restaur': 1,\n",
       " 'tourist': 1,\n",
       " 'activ': 1,\n",
       " 'etc': 1,\n",
       " 'readi': 1,\n",
       " 'us': 1,\n",
       " '!': 2,\n",
       " 'definit': 1,\n",
       " 'recommend': 1,\n",
       " 'thi': 1,\n",
       " 'air': 1,\n",
       " 'bnb': 1}"
      ]
     },
     "execution_count": 40,
     "metadata": {},
     "output_type": "execute_result"
    }
   ],
   "source": [
    "freq_table = _create_frequency_table(sample_string)\n",
    "freq_table"
   ]
  },
  {
   "cell_type": "markdown",
   "metadata": {},
   "source": [
    "### 2. Tokenize the sentences"
   ]
  },
  {
   "cell_type": "code",
   "execution_count": 90,
   "metadata": {},
   "outputs": [
    {
     "data": {
      "text/plain": [
       "[\"I can't say enough about Brian or his place.\",\n",
       " 'The location was perfect for exploring the city, the apartment was small but very clean and welcoming and Brian himself was a fantastic host.',\n",
       " 'Due to flight issues we arrived in the middle of the night and he was very friendly and accommodating.',\n",
       " 'He even had a list of favorite local restaurants, tourist activities, etc.',\n",
       " 'ready for us!',\n",
       " 'I definitely recommend this air bnb!']"
      ]
     },
     "execution_count": 90,
     "metadata": {},
     "output_type": "execute_result"
    }
   ],
   "source": [
    "sentences = sent_tokenize(sample_string)\n",
    "sentences"
   ]
  },
  {
   "cell_type": "markdown",
   "metadata": {},
   "source": [
    "### 3. Score the sentences: Term frequency"
   ]
  },
  {
   "cell_type": "code",
   "execution_count": 62,
   "metadata": {},
   "outputs": [],
   "source": [
    "def _score_sentences(sentences, freqTable) -> dict:\n",
    "    sentenceValue = dict()\n",
    "    \n",
    "    for sentence in sentences:\n",
    "        word_count_in_sentence = (len(word_tokenize(sentence)))\n",
    "        for wordValue in freqTable:\n",
    "            if wordValue in sentence.lower():\n",
    "                if sentence[:10] in sentenceValue:\n",
    "                    sentenceValue[sentence[:10]] += freqTable[wordValue]\n",
    "                else:\n",
    "                    sentenceValue[sentence[:10]] = freqTable[wordValue]\n",
    "\n",
    "        sentenceValue[sentence[:10]] = sentenceValue[sentence[:10]] // word_count_in_sentence\n",
    "\n",
    "    return sentenceValue"
   ]
  },
  {
   "cell_type": "code",
   "execution_count": 63,
   "metadata": {},
   "outputs": [],
   "source": [
    "sentence_scores = _score_sentences(sentences, freq_table)"
   ]
  },
  {
   "cell_type": "markdown",
   "metadata": {},
   "source": [
    "### 4. Find the threshold"
   ]
  },
  {
   "cell_type": "code",
   "execution_count": 64,
   "metadata": {},
   "outputs": [],
   "source": [
    "def _find_average_score(sentenceValue) -> int:\n",
    "    sumValues = 0\n",
    "    for entry in sentenceValue:\n",
    "        sumValues += sentenceValue[entry]\n",
    "\n",
    "    # Average value of a sentence from original text\n",
    "    average = int(sumValues / len(sentenceValue))\n",
    "\n",
    "    return average"
   ]
  },
  {
   "cell_type": "code",
   "execution_count": 65,
   "metadata": {},
   "outputs": [],
   "source": [
    "threshold = _find_average_score(sentence_scores)"
   ]
  },
  {
   "cell_type": "markdown",
   "metadata": {},
   "source": [
    "### 5. Generate the summary"
   ]
  },
  {
   "cell_type": "code",
   "execution_count": 66,
   "metadata": {},
   "outputs": [],
   "source": [
    "def _generate_summary(sentences, sentenceValue, threshold):\n",
    "    sentence_count = 0\n",
    "    summary = ''\n",
    "\n",
    "    for sentence in sentences:\n",
    "        if sentence[:10] in sentenceValue and sentenceValue[sentence[:10]] > (threshold):\n",
    "            summary += \" \" + sentence\n",
    "            sentence_count += 1\n",
    "\n",
    "    return summary"
   ]
  },
  {
   "cell_type": "code",
   "execution_count": 67,
   "metadata": {},
   "outputs": [],
   "source": [
    "summary = _generate_summary(sentences, sentence_scores, 1.5*threshold)"
   ]
  },
  {
   "cell_type": "code",
   "execution_count": 68,
   "metadata": {},
   "outputs": [
    {
     "name": "stdout",
     "output_type": "stream",
     "text": [
      " I can't say enough about Brian or his place. He even had a list of favorite local restaurants, tourist activities, etc. I definitely recommend this air bnb!\n"
     ]
    }
   ],
   "source": [
    "print(summary)"
   ]
  },
  {
   "cell_type": "code",
   "execution_count": 250,
   "metadata": {},
   "outputs": [],
   "source": [
    "from nltk.corpus import stopwords\n",
    "from nltk.stem import PorterStemmer\n",
    "from nltk.tokenize import word_tokenize, sent_tokenize\n",
    "\n",
    "def summarize(text, multiplier=1.5):\n",
    "    # 1 Create the word frequency table\n",
    "    freq_table = _create_frequency_table(text)\n",
    "\n",
    "    # 2 Tokenize the sentences\n",
    "    sentences = sent_tokenize(text)\n",
    "\n",
    "    # 3 Important Algorithm: score the sentences\n",
    "    sentence_scores = _score_sentences(sentences, freq_table)\n",
    "\n",
    "    # 4 Find the threshold\n",
    "    threshold = _find_average_score(sentence_scores)\n",
    "\n",
    "    # 5 Important Algorithm: Generate the summary\n",
    "    summary = _generate_summary(sentences, sentence_scores, multiplier * threshold)\n",
    "\n",
    "    return summary"
   ]
  },
  {
   "cell_type": "code",
   "execution_count": 183,
   "metadata": {},
   "outputs": [
    {
     "data": {
      "text/html": [
       "<div>\n",
       "<style scoped>\n",
       "    .dataframe tbody tr th:only-of-type {\n",
       "        vertical-align: middle;\n",
       "    }\n",
       "\n",
       "    .dataframe tbody tr th {\n",
       "        vertical-align: top;\n",
       "    }\n",
       "\n",
       "    .dataframe thead th {\n",
       "        text-align: right;\n",
       "    }\n",
       "</style>\n",
       "<table border=\"1\" class=\"dataframe\">\n",
       "  <thead>\n",
       "    <tr style=\"text-align: right;\">\n",
       "      <th></th>\n",
       "      <th>neighbourhood</th>\n",
       "      <th>comments</th>\n",
       "    </tr>\n",
       "  </thead>\n",
       "  <tbody>\n",
       "    <tr>\n",
       "      <th>0</th>\n",
       "      <td>Midtown</td>\n",
       "      <td>Notre séjour de trois nuits.\\r\\nNous avons app...</td>\n",
       "    </tr>\n",
       "    <tr>\n",
       "      <th>1</th>\n",
       "      <td>Midtown</td>\n",
       "      <td>Great experience.</td>\n",
       "    </tr>\n",
       "    <tr>\n",
       "      <th>2</th>\n",
       "      <td>Midtown</td>\n",
       "      <td>I've stayed with my friend at the Midtown Cast...</td>\n",
       "    </tr>\n",
       "    <tr>\n",
       "      <th>3</th>\n",
       "      <td>Midtown</td>\n",
       "      <td>We've been staying here for about 9 nights, en...</td>\n",
       "    </tr>\n",
       "    <tr>\n",
       "      <th>4</th>\n",
       "      <td>Midtown</td>\n",
       "      <td>We had a wonderful stay at Jennifer's charming...</td>\n",
       "    </tr>\n",
       "    <tr>\n",
       "      <th>5</th>\n",
       "      <td>East Flatbush</td>\n",
       "      <td>The place was dirty. Adorable kids</td>\n",
       "    </tr>\n",
       "    <tr>\n",
       "      <th>6</th>\n",
       "      <td>East Flatbush</td>\n",
       "      <td>L'appartement se situe en sous sol d'une maiso...</td>\n",
       "    </tr>\n",
       "    <tr>\n",
       "      <th>7</th>\n",
       "      <td>East Flatbush</td>\n",
       "      <td>Staying at this location exceeded more than my...</td>\n",
       "    </tr>\n",
       "    <tr>\n",
       "      <th>8</th>\n",
       "      <td>East Flatbush</td>\n",
       "      <td>it was easy to get to ,very convenient to wher...</td>\n",
       "    </tr>\n",
       "    <tr>\n",
       "      <th>9</th>\n",
       "      <td>East Flatbush</td>\n",
       "      <td>Shovonte was an amazing host and was super eas...</td>\n",
       "    </tr>\n",
       "  </tbody>\n",
       "</table>\n",
       "</div>"
      ],
      "text/plain": [
       "   neighbourhood                                           comments\n",
       "0        Midtown  Notre séjour de trois nuits.\\r\\nNous avons app...\n",
       "1        Midtown                                  Great experience.\n",
       "2        Midtown  I've stayed with my friend at the Midtown Cast...\n",
       "3        Midtown  We've been staying here for about 9 nights, en...\n",
       "4        Midtown  We had a wonderful stay at Jennifer's charming...\n",
       "5  East Flatbush                 The place was dirty. Adorable kids\n",
       "6  East Flatbush  L'appartement se situe en sous sol d'une maiso...\n",
       "7  East Flatbush  Staying at this location exceeded more than my...\n",
       "8  East Flatbush  it was easy to get to ,very convenient to wher...\n",
       "9  East Flatbush  Shovonte was an amazing host and was super eas..."
      ]
     },
     "execution_count": 183,
     "metadata": {},
     "output_type": "execute_result"
    }
   ],
   "source": [
    "df_top = df[['neighbourhood', 'comments']][:5]\n",
    "df_tail = df[['neighbourhood', 'comments']][-5:]\n",
    "df_test = pd.concat([df_top, df_tail]).reset_index(drop=True)\n",
    "df_test"
   ]
  },
  {
   "cell_type": "code",
   "execution_count": 184,
   "metadata": {},
   "outputs": [
    {
     "data": {
      "text/html": [
       "<div>\n",
       "<style scoped>\n",
       "    .dataframe tbody tr th:only-of-type {\n",
       "        vertical-align: middle;\n",
       "    }\n",
       "\n",
       "    .dataframe tbody tr th {\n",
       "        vertical-align: top;\n",
       "    }\n",
       "\n",
       "    .dataframe thead th {\n",
       "        text-align: right;\n",
       "    }\n",
       "</style>\n",
       "<table border=\"1\" class=\"dataframe\">\n",
       "  <thead>\n",
       "    <tr style=\"text-align: right;\">\n",
       "      <th></th>\n",
       "      <th>neighbourhood</th>\n",
       "      <th>comments</th>\n",
       "    </tr>\n",
       "  </thead>\n",
       "  <tbody>\n",
       "    <tr>\n",
       "      <th>0</th>\n",
       "      <td>East Flatbush</td>\n",
       "      <td>The place was dirty. Adorable kids L'apparteme...</td>\n",
       "    </tr>\n",
       "    <tr>\n",
       "      <th>1</th>\n",
       "      <td>Midtown</td>\n",
       "      <td>Notre séjour de trois nuits.\\r\\nNous avons app...</td>\n",
       "    </tr>\n",
       "  </tbody>\n",
       "</table>\n",
       "</div>"
      ],
      "text/plain": [
       "   neighbourhood                                           comments\n",
       "0  East Flatbush  The place was dirty. Adorable kids L'apparteme...\n",
       "1        Midtown  Notre séjour de trois nuits.\\r\\nNous avons app..."
      ]
     },
     "execution_count": 184,
     "metadata": {},
     "output_type": "execute_result"
    }
   ],
   "source": [
    "df_test = df_test.groupby('neighbourhood',as_index=False)\\\n",
    "                 .agg(lambda x:' '.join(x))\n",
    "df_test"
   ]
  },
  {
   "cell_type": "code",
   "execution_count": 185,
   "metadata": {},
   "outputs": [
    {
     "data": {
      "text/plain": [
       "\" Notre séjour de trois nuits. Agréable, propre et bien soigné. C'est idéal pour une famille de 3 ou 4 personnes. Jennifer est correcte le remboursement de la caution était très rapide.\""
      ]
     },
     "execution_count": 185,
     "metadata": {},
     "output_type": "execute_result"
    }
   ],
   "source": [
    "summarize(df_test['comments'][1])"
   ]
  },
  {
   "cell_type": "code",
   "execution_count": 190,
   "metadata": {},
   "outputs": [
    {
     "data": {
      "text/html": [
       "<div>\n",
       "<style scoped>\n",
       "    .dataframe tbody tr th:only-of-type {\n",
       "        vertical-align: middle;\n",
       "    }\n",
       "\n",
       "    .dataframe tbody tr th {\n",
       "        vertical-align: top;\n",
       "    }\n",
       "\n",
       "    .dataframe thead th {\n",
       "        text-align: right;\n",
       "    }\n",
       "</style>\n",
       "<table border=\"1\" class=\"dataframe\">\n",
       "  <thead>\n",
       "    <tr style=\"text-align: right;\">\n",
       "      <th></th>\n",
       "      <th>neighbourhood</th>\n",
       "      <th>comments</th>\n",
       "    </tr>\n",
       "  </thead>\n",
       "  <tbody>\n",
       "    <tr>\n",
       "      <th>0</th>\n",
       "      <td>Midtown</td>\n",
       "      <td>Notre séjour de trois nuits.\\r\\nNous avons app...</td>\n",
       "    </tr>\n",
       "    <tr>\n",
       "      <th>1</th>\n",
       "      <td>Midtown</td>\n",
       "      <td>Great experience.</td>\n",
       "    </tr>\n",
       "    <tr>\n",
       "      <th>2</th>\n",
       "      <td>Midtown</td>\n",
       "      <td>I've stayed with my friend at the Midtown Cast...</td>\n",
       "    </tr>\n",
       "    <tr>\n",
       "      <th>3</th>\n",
       "      <td>Midtown</td>\n",
       "      <td>We've been staying here for about 9 nights, en...</td>\n",
       "    </tr>\n",
       "    <tr>\n",
       "      <th>4</th>\n",
       "      <td>Midtown</td>\n",
       "      <td>We had a wonderful stay at Jennifer's charming...</td>\n",
       "    </tr>\n",
       "    <tr>\n",
       "      <th>...</th>\n",
       "      <td>...</td>\n",
       "      <td>...</td>\n",
       "    </tr>\n",
       "    <tr>\n",
       "      <th>1131043</th>\n",
       "      <td>East Flatbush</td>\n",
       "      <td>The place was dirty. Adorable kids</td>\n",
       "    </tr>\n",
       "    <tr>\n",
       "      <th>1131044</th>\n",
       "      <td>East Flatbush</td>\n",
       "      <td>L'appartement se situe en sous sol d'une maiso...</td>\n",
       "    </tr>\n",
       "    <tr>\n",
       "      <th>1131045</th>\n",
       "      <td>East Flatbush</td>\n",
       "      <td>Staying at this location exceeded more than my...</td>\n",
       "    </tr>\n",
       "    <tr>\n",
       "      <th>1131046</th>\n",
       "      <td>East Flatbush</td>\n",
       "      <td>it was easy to get to ,very convenient to wher...</td>\n",
       "    </tr>\n",
       "    <tr>\n",
       "      <th>1131047</th>\n",
       "      <td>East Flatbush</td>\n",
       "      <td>Shovonte was an amazing host and was super eas...</td>\n",
       "    </tr>\n",
       "  </tbody>\n",
       "</table>\n",
       "<p>1131048 rows × 2 columns</p>\n",
       "</div>"
      ],
      "text/plain": [
       "         neighbourhood                                           comments\n",
       "0              Midtown  Notre séjour de trois nuits.\\r\\nNous avons app...\n",
       "1              Midtown                                  Great experience.\n",
       "2              Midtown  I've stayed with my friend at the Midtown Cast...\n",
       "3              Midtown  We've been staying here for about 9 nights, en...\n",
       "4              Midtown  We had a wonderful stay at Jennifer's charming...\n",
       "...                ...                                                ...\n",
       "1131043  East Flatbush                 The place was dirty. Adorable kids\n",
       "1131044  East Flatbush  L'appartement se situe en sous sol d'une maiso...\n",
       "1131045  East Flatbush  Staying at this location exceeded more than my...\n",
       "1131046  East Flatbush  it was easy to get to ,very convenient to wher...\n",
       "1131047  East Flatbush  Shovonte was an amazing host and was super eas...\n",
       "\n",
       "[1131048 rows x 2 columns]"
      ]
     },
     "execution_count": 190,
     "metadata": {},
     "output_type": "execute_result"
    }
   ],
   "source": [
    "df_top = df[['neighbourhood', 'comments']][:5]\n",
    "df_tail = df[['neighbourhood', 'comments']][5:]\n",
    "df_test = pd.concat([df_top, df_tail]).reset_index(drop=True)\n",
    "df_test"
   ]
  },
  {
   "cell_type": "code",
   "execution_count": 282,
   "metadata": {},
   "outputs": [
    {
     "name": "stdout",
     "output_type": "stream",
     "text": [
      "         neighbourhood                                           comments\n",
      "0              Midtown   ! Clean. Thanks. P.S. ! . . . Perfection! Per...\n",
      "1             Brooklyn   . . Recomendamos este lugar con toda segurida...\n",
      "2            Manhattan   Great host. Great host. Recomendo...!!!! Grea...\n",
      "3   Bedford-Stuyvesant   Reasonable rates + private kitchen and bathro...\n",
      "4      Upper West Side   Wonderful. Quiet. Great host, cozy space\\nInc...\n",
      "5      Lower East Side   2. 3. Thanks. . clean. clean. Location. Locat...\n",
      "6           Park Slope   Warm welcome, left suitcase in living room wi...\n",
      "7         Williamsburg   Great apartment in a great area. Well-equippe...\n",
      "8              Chelsea   Comfortable bedroom. Anyway. Comfortable bed,...\n",
      "9         East Village   Clean. 2. 3. 2. Thanks. .. Awesome. Huge apar...\n",
      "10              Harlem   AMAZING. . Recommended! Awesome. P.S. Awesome...\n",
      "11    Hamilton Heights   Recommended. Recommended if you’re looking fo...\n",
      "12            Bushwick   Great place in a very convenient location. Gr...\n",
      "13       Alphabet City   Recommended. Clean. Easy. Recommended this pl...\n",
      "14         Fort Greene   Definitely a good place if in need of privacy...\n",
      "15          Greenpoint   Wow. Perfect. . .. Thanks. walk away. . Perfe...\n",
      "16      Hell's Kitchen   Location. Location. Location. Warm. Thanks. e...\n",
      "17     Upper East Side   8. Clean. 2. 3. Recommend. . 2. 3. 4. 4. 5. 2...\n",
      "18        Clinton Hill   P.S. . . P.S. Great value for the money. . Cl...\n",
      "19         East Harlem   Thanks. Recommended! Wow. Wow. Recommended! R...\n",
      "20              Queens   Quiet. . . . nearby. . . PS. 3. PS. .. 2. 3. ...\n",
      "21            Flatbush   recommended. P.S. 2. 3. 4. 5. 6. Awesome. Wow...\n",
      "22        West Village   Perfect. 2. 3. Recommended. Recomendo. Quiet....\n",
      "23           Ridgewood   Recomendado. Recomendadissimo. Clean. PS. PS....\n",
      "24           The Bronx   Disappointing. 1. . Thanks. . . . Clean. Than...\n",
      "25             Jamaica   It was great. It was great like the last time...\n",
      "26           Chinatown   Recommended! Perfect. . . Clean. Recommended....\n",
      "27       Crown Heights   Hola..! Thanks. P.s. Recommended place to sta...\n",
      "28       The Rockaways   . ... Thanks. . Lovely. Clean. . Lovely. . 2....\n",
      "29        Midtown East   Thanks. Recommended \\nHillary was great and t...\n",
      "30  Washington Heights   Recommended. Haha. Recommended! Lovely place....\n",
      "31            Kips Bay   . 1. 2. 1. 2. 3. 4. Great. . . 2. 3. 6. 2. 3....\n",
      "32             Astoria   2. 3. 4. 5. 6. Best. Host. Ever. Nice host. G...\n",
      "33       East New York   Great house for a big group. Thanks. Consigli...\n",
      "34  Financial District   Great. 2. 3. Recommended. 2. P.S. . lol. lol....\n",
      "35            Flushing   Recommended. Recommended! Clean. 10/10. Thank...\n",
      "36       East Flatbush   . . .. Thanks. 2. 2. Merci. .. ‍♀️.. Lol.. Th...\n",
      "Wall time: 1h 1min 50s\n"
     ]
    }
   ],
   "source": [
    "%%time\n",
    "n_comment = 5000\n",
    "\n",
    "col_name = ['neighbourhood', 'comments']\n",
    "df_concat = pd.DataFrame()\n",
    "\n",
    "df_groupby = df[col_name].drop_duplicates().reset_index(drop=True)\n",
    "neighborhood = df_groupby['neighbourhood'].drop_duplicates()\n",
    "\n",
    "for item in neighborhood:\n",
    "    df_temp = df[df['neighbourhood'] == item][:n_comment]\n",
    "    \n",
    "    place = df_temp['neighbourhood'].tolist()[0]\n",
    "    text = df_temp['comments'].str.cat(sep='\\n')\n",
    "    text = summarize(text, 4.5)\n",
    "    \n",
    "    d = {'neighbourhood': [place],\n",
    "              'comments': [text]}\n",
    "    \n",
    "    df_temp = pd.DataFrame(data=d)\n",
    "    \n",
    "    df_concat = df_concat.append(df_temp, ignore_index=True)\n",
    "\n",
    "print(df_concat)\n",
    "\n"
   ]
  },
  {
   "cell_type": "code",
   "execution_count": 290,
   "metadata": {},
   "outputs": [
    {
     "name": "stdout",
     "output_type": "stream",
     "text": [
      " 2. 3. Thanks. . clean. clean. Location. Location. Location. Amazing. Amazing. !. Clean. Location... Location... Perfect. . walk. 2. 3. Thanks. Perfect. Thanks. 1. 2. 1. Clean. Location. Location. . Check. Check. Check. Check. 2. Thanks. etc. . Thanks. Thanks. etc. Thanks. etc. Clean.\n"
     ]
    }
   ],
   "source": [
    "print(df_concat['comments'][5])"
   ]
  },
  {
   "cell_type": "code",
   "execution_count": 283,
   "metadata": {},
   "outputs": [],
   "source": [
    "df_concat.to_csv('comment_summary.csv', index=False)"
   ]
  },
  {
   "cell_type": "code",
   "execution_count": 284,
   "metadata": {},
   "outputs": [
    {
     "data": {
      "text/plain": [
       "['.git',\n",
       " '.gitignore',\n",
       " '.ipynb_checkpoints',\n",
       " 'comment_summary.csv',\n",
       " 'data',\n",
       " 'README.md',\n",
       " 'sandbox.ipynb']"
      ]
     },
     "execution_count": 284,
     "metadata": {},
     "output_type": "execute_result"
    }
   ],
   "source": [
    "os.listdir()"
   ]
  },
  {
   "cell_type": "code",
   "execution_count": null,
   "metadata": {},
   "outputs": [],
   "source": []
  }
 ],
 "metadata": {
  "kernelspec": {
   "display_name": "Python 3",
   "language": "python",
   "name": "python3"
  },
  "language_info": {
   "codemirror_mode": {
    "name": "ipython",
    "version": 3
   },
   "file_extension": ".py",
   "mimetype": "text/x-python",
   "name": "python",
   "nbconvert_exporter": "python",
   "pygments_lexer": "ipython3",
   "version": "3.7.0"
  }
 },
 "nbformat": 4,
 "nbformat_minor": 4
}
